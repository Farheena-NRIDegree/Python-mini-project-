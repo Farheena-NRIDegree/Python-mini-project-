{
  "nbformat": 4,
  "nbformat_minor": 0,
  "metadata": {
    "colab": {
      "provenance": [],
      "authorship_tag": "ABX9TyOtlES+JBha5VGKGjWOSall",
      "include_colab_link": true
    },
    "kernelspec": {
      "name": "python3",
      "display_name": "Python 3"
    },
    "language_info": {
      "name": "python"
    }
  },
  "cells": [
    {
      "cell_type": "markdown",
      "metadata": {
        "id": "view-in-github",
        "colab_type": "text"
      },
      "source": [
        "<a href=\"https://colab.research.google.com/github/Farheena-NRIDegree/Python-mini-project-/blob/main/Numpy_2.ipynb\" target=\"_parent\"><img src=\"https://colab.research.google.com/assets/colab-badge.svg\" alt=\"Open In Colab\"/></a>"
      ]
    },
    {
      "cell_type": "code",
      "execution_count": null,
      "metadata": {
        "id": "a1D-3ewp3dkH"
      },
      "outputs": [],
      "source": [
        " import numpy as np"
      ]
    },
    {
      "cell_type": "code",
      "source": [
        "#Recap\n",
        "arr = np.array([[1,2,3],[4,5,6]])"
      ],
      "metadata": {
        "id": "b1lS_uZB3nEp"
      },
      "execution_count": null,
      "outputs": []
    },
    {
      "cell_type": "code",
      "source": [
        "type(arr)"
      ],
      "metadata": {
        "colab": {
          "base_uri": "https://localhost:8080/"
        },
        "id": "SO4JGxvB3nnm",
        "outputId": "bbfd0f43-0764-4eeb-93c1-02b7c26143ad"
      },
      "execution_count": null,
      "outputs": [
        {
          "output_type": "execute_result",
          "data": {
            "text/plain": [
              "numpy.ndarray"
            ]
          },
          "metadata": {},
          "execution_count": 5
        }
      ]
    },
    {
      "cell_type": "code",
      "source": [
        "#dot product _ m x n || n x p\n",
        "arr1 = np.random.randint (1,2,(3,1))"
      ],
      "metadata": {
        "id": "ENUdyM6N3oOy"
      },
      "execution_count": null,
      "outputs": []
    },
    {
      "cell_type": "code",
      "source": [
        "arr.shape"
      ],
      "metadata": {
        "colab": {
          "base_uri": "https://localhost:8080/"
        },
        "id": "RbURZp6Y3jqa",
        "outputId": "7faff480-fcd3-4e4c-826e-3d96b271e836"
      },
      "execution_count": null,
      "outputs": [
        {
          "output_type": "execute_result",
          "data": {
            "text/plain": [
              "(2, 3)"
            ]
          },
          "metadata": {},
          "execution_count": 7
        }
      ]
    },
    {
      "cell_type": "code",
      "source": [
        "arr1.shape"
      ],
      "metadata": {
        "colab": {
          "base_uri": "https://localhost:8080/"
        },
        "id": "G8g6_e9Q3j9C",
        "outputId": "7342e685-60c7-4e6c-f752-e0ef89133e21"
      },
      "execution_count": null,
      "outputs": [
        {
          "output_type": "execute_result",
          "data": {
            "text/plain": [
              "(3, 1)"
            ]
          },
          "metadata": {},
          "execution_count": 8
        }
      ]
    },
    {
      "cell_type": "code",
      "source": [
        "result = np.dot(arr, arr1)"
      ],
      "metadata": {
        "id": "yf7T5DB23kIh"
      },
      "execution_count": null,
      "outputs": []
    },
    {
      "cell_type": "code",
      "source": [
        "print(result)"
      ],
      "metadata": {
        "colab": {
          "base_uri": "https://localhost:8080/"
        },
        "id": "8a3AOTfV3kTa",
        "outputId": "b04250a9-d1a6-47b1-c51d-c7e8414a0837"
      },
      "execution_count": null,
      "outputs": [
        {
          "output_type": "stream",
          "name": "stdout",
          "text": [
            "[[ 6]\n",
            " [15]]\n"
          ]
        }
      ]
    },
    {
      "cell_type": "code",
      "source": [
        "r1 = np.random.randint(10,20,(3,3))\n",
        "print(r1)"
      ],
      "metadata": {
        "colab": {
          "base_uri": "https://localhost:8080/"
        },
        "id": "KFTrXIEB3kdm",
        "outputId": "7ccd0c1b-702c-4106-817d-46f09df9de6e"
      },
      "execution_count": null,
      "outputs": [
        {
          "output_type": "stream",
          "name": "stdout",
          "text": [
            "[[18 14 10]\n",
            " [15 17 15]\n",
            " [10 12 10]]\n"
          ]
        }
      ]
    },
    {
      "cell_type": "code",
      "source": [
        "r2 =np.eye(3)\n",
        "print(r2)"
      ],
      "metadata": {
        "colab": {
          "base_uri": "https://localhost:8080/"
        },
        "id": "aBywFo4N3kn4",
        "outputId": "cc444da1-45c3-4846-de90-d1b26892142f"
      },
      "execution_count": null,
      "outputs": [
        {
          "output_type": "stream",
          "name": "stdout",
          "text": [
            "[[1. 0. 0.]\n",
            " [0. 1. 0.]\n",
            " [0. 0. 1.]]\n"
          ]
        }
      ]
    },
    {
      "cell_type": "code",
      "source": [
        "r1_inv = np.linalg.inv(r1)\n",
        "result2 = np.dot(r2, r1)\n",
        "print(result2)"
      ],
      "metadata": {
        "colab": {
          "base_uri": "https://localhost:8080/"
        },
        "id": "mdHlfJhv3lIV",
        "outputId": "b022856f-d6ea-43ef-c3f3-2ab3b098ba04"
      },
      "execution_count": null,
      "outputs": [
        {
          "output_type": "stream",
          "name": "stdout",
          "text": [
            "[[18. 14. 10.]\n",
            " [15. 17. 15.]\n",
            " [10. 12. 10.]]\n"
          ]
        }
      ]
    },
    {
      "cell_type": "code",
      "source": [
        "#M . I = I . M = M"
      ],
      "metadata": {
        "id": "GzSFil2W3pUr"
      },
      "execution_count": null,
      "outputs": []
    },
    {
      "cell_type": "code",
      "source": [
        "#A . B != B . A"
      ],
      "metadata": {
        "id": "HDrI7bfk3mTC"
      },
      "execution_count": null,
      "outputs": []
    },
    {
      "cell_type": "code",
      "source": [
        "# mathematical operations"
      ],
      "metadata": {
        "id": "eSVHaN3N3pvk"
      },
      "execution_count": null,
      "outputs": []
    },
    {
      "cell_type": "code",
      "source": [
        "# + _ * /"
      ],
      "metadata": {
        "id": "yhsFT_AG3qK2"
      },
      "execution_count": null,
      "outputs": []
    },
    {
      "cell_type": "code",
      "source": [
        "t1 = np.random.randint(3,6,(3,3))\n",
        "t2 = np.random.randint(3,6,(3,3))"
      ],
      "metadata": {
        "id": "3CtlYZAJ3qnP"
      },
      "execution_count": null,
      "outputs": []
    },
    {
      "cell_type": "code",
      "source": [
        "print(t1)"
      ],
      "metadata": {
        "colab": {
          "base_uri": "https://localhost:8080/"
        },
        "id": "_er0eEbs3rEr",
        "outputId": "89318acd-896e-4c4d-8e4b-cc686138991e"
      },
      "execution_count": null,
      "outputs": [
        {
          "output_type": "stream",
          "name": "stdout",
          "text": [
            "[[5 3 4]\n",
            " [3 3 4]\n",
            " [4 4 4]]\n"
          ]
        }
      ]
    },
    {
      "cell_type": "code",
      "source": [
        "print(t2)"
      ],
      "metadata": {
        "colab": {
          "base_uri": "https://localhost:8080/"
        },
        "id": "l5uZ8DBL9Yim",
        "outputId": "62b39073-9547-41c3-e925-414219a83b0c"
      },
      "execution_count": null,
      "outputs": [
        {
          "output_type": "stream",
          "name": "stdout",
          "text": [
            "[[4 5 3]\n",
            " [5 5 5]\n",
            " [5 5 3]]\n"
          ]
        }
      ]
    },
    {
      "cell_type": "code",
      "source": [
        "t3 = t1 + t2\n",
        "print(t3)"
      ],
      "metadata": {
        "colab": {
          "base_uri": "https://localhost:8080/"
        },
        "id": "3XefWG4X9ZWf",
        "outputId": "0f56a66c-bd23-4eb2-b597-5ae942f33a20"
      },
      "execution_count": null,
      "outputs": [
        {
          "output_type": "stream",
          "name": "stdout",
          "text": [
            "[[9 8 7]\n",
            " [8 8 9]\n",
            " [9 9 7]]\n"
          ]
        }
      ]
    },
    {
      "cell_type": "code",
      "source": [
        "# matrix multiplication\n",
        "result = np.dot(arr,arr1)"
      ],
      "metadata": {
        "id": "n3fSQ0gs9ZyC"
      },
      "execution_count": null,
      "outputs": []
    },
    {
      "cell_type": "code",
      "source": [
        "# statistical operations"
      ],
      "metadata": {
        "id": "YL21gv1D9aNS"
      },
      "execution_count": null,
      "outputs": []
    },
    {
      "cell_type": "code",
      "source": [
        "mean = t3.mean()\n",
        "mode = t3.max()\n",
        "median = np.median(t3)\n",
        "std = np.std(t3)\n",
        "Var = np.var(t3)"
      ],
      "metadata": {
        "id": "yaFyy7nL9awj"
      },
      "execution_count": null,
      "outputs": []
    },
    {
      "cell_type": "code",
      "source": [
        "print(mean)\n",
        "print(mode)\n",
        "print(median)\n",
        "print(std)\n",
        "print(Var)"
      ],
      "metadata": {
        "colab": {
          "base_uri": "https://localhost:8080/"
        },
        "id": "gvcQreTp-da2",
        "outputId": "0292aa76-6428-4427-f7f3-728fee8fbd0e"
      },
      "execution_count": null,
      "outputs": [
        {
          "output_type": "stream",
          "name": "stdout",
          "text": [
            "8.222222222222221\n",
            "9\n",
            "8.0\n",
            "0.7856742013183861\n",
            "0.6172839506172838\n"
          ]
        }
      ]
    },
    {
      "cell_type": "code",
      "source": [
        "print(std)"
      ],
      "metadata": {
        "colab": {
          "base_uri": "https://localhost:8080/"
        },
        "id": "kUmH09Br-h2r",
        "outputId": "7ac99e5d-e6de-4cd7-c361-8ebfe322e34b"
      },
      "execution_count": null,
      "outputs": [
        {
          "output_type": "stream",
          "name": "stdout",
          "text": [
            "0.7856742013183861\n"
          ]
        }
      ]
    },
    {
      "cell_type": "code",
      "source": [
        "std*std"
      ],
      "metadata": {
        "colab": {
          "base_uri": "https://localhost:8080/"
        },
        "id": "R35wJATE-iUE",
        "outputId": "448a4b65-9681-4678-d8e9-c86621cd9fec"
      },
      "execution_count": null,
      "outputs": [
        {
          "output_type": "execute_result",
          "data": {
            "text/plain": [
              "0.6172839506172838"
            ]
          },
          "metadata": {},
          "execution_count": 59
        }
      ]
    },
    {
      "cell_type": "code",
      "source": [
        "# Trigonometric functions"
      ],
      "metadata": {
        "id": "C_xPrT7L-ivi"
      },
      "execution_count": null,
      "outputs": []
    },
    {
      "cell_type": "code",
      "source": [
        "# sin(x)\n",
        "# cos(x)\n",
        "# tan(x) _ sin(x)\\ cos(x)\n",
        "# cosec _ 1\\sin(x)\n",
        "# sen _ 1\\ cos(x)\n",
        "# cot _ 1 \\ tan(x)\n",
        "\n",
        "#\n",
        "angles = np.array([0,15,30,45,60,75,90])\n",
        "# sin(array)\n",
        "result = np.sin(np.radians(angles))\n",
        "result1= np.cos(np.radians(angles))\n",
        "result2= np.tan(np.radians(angles))"
      ],
      "metadata": {
        "id": "1ElJZtxd-jKy"
      },
      "execution_count": null,
      "outputs": []
    },
    {
      "cell_type": "code",
      "source": [
        "print(result)\n",
        "print(result1)\n",
        "print(result2)"
      ],
      "metadata": {
        "colab": {
          "base_uri": "https://localhost:8080/"
        },
        "id": "FOR5tiSs-jlM",
        "outputId": "750e5b81-b4f0-4769-8362-5bf5dc06dd84"
      },
      "execution_count": null,
      "outputs": [
        {
          "output_type": "stream",
          "name": "stdout",
          "text": [
            "[0.         0.25881905 0.5        0.70710678 0.8660254  0.96592583\n",
            " 1.        ]\n",
            "[1.00000000e+00 9.65925826e-01 8.66025404e-01 7.07106781e-01\n",
            " 5.00000000e-01 2.58819045e-01 6.12323400e-17]\n",
            "[[18. 14. 10.]\n",
            " [15. 17. 15.]\n",
            " [10. 12. 10.]]\n"
          ]
        }
      ]
    },
    {
      "cell_type": "code",
      "source": [
        "arr = np.array([1,2,3,4,5,6])\n",
        "\n",
        "# Reshape the array\n",
        "reshapedarr = arr.reshape(3,2)\n",
        "\n",
        "print(reshapedarr)\n",
        "\n",
        "# Convert / Flatten any n dim array\n",
        "flattenedarr = arr.flatten()\n",
        "\n",
        "print(flattenedarr)"
      ],
      "metadata": {
        "colab": {
          "base_uri": "https://localhost:8080/"
        },
        "id": "KKpC4NajB1bA",
        "outputId": "2c903163-9bb3-44a8-bbf0-ade348e7ff47"
      },
      "execution_count": null,
      "outputs": [
        {
          "output_type": "stream",
          "name": "stdout",
          "text": [
            "[[1 2]\n",
            " [3 4]\n",
            " [5 6]]\n",
            "[1 2 3 4 5 6]\n"
          ]
        }
      ]
    },
    {
      "cell_type": "code",
      "source": [
        "#Stacking the data\n",
        "import numpy as np\n",
        "arr1 = np.array([1,2,3,4])\n",
        "arr2 = np.array([10,20,30,40])\n",
        "arr3 = np.vstack((arr1,arr2))\n",
        "print(f\" The shape of arr3 is {arr3.shape}\")\n",
        "\n",
        "# Horizontal stacking\n",
        "arr4 = np.hstack((arr1,arr2))\n",
        "print(f\"The shape of arr4 is {arr4.shape}\")\n",
        "print(arr4)"
      ],
      "metadata": {
        "colab": {
          "base_uri": "https://localhost:8080/"
        },
        "id": "-rB-EvWXBzKB",
        "outputId": "6a8ebcc9-8e06-4f47-b0a2-aec38c01ef31"
      },
      "execution_count": null,
      "outputs": [
        {
          "output_type": "stream",
          "name": "stdout",
          "text": [
            " The shape of arr3 is (2, 4)\n",
            "The shape of arr4 is (8,)\n",
            "[ 1  2  3  4 10 20 30 40]\n"
          ]
        }
      ]
    },
    {
      "cell_type": "code",
      "source": [
        "#Filtering\n",
        "arr = np.array([10,20,30,40,50,60,70,80])\n",
        "farr = arr[arr > 40]\n",
        "\n",
        "print(farr)"
      ],
      "metadata": {
        "colab": {
          "base_uri": "https://localhost:8080/"
        },
        "id": "q3-Hs1m0BzqK",
        "outputId": "14c309ba-2b8a-47ac-aed2-e9a442577e62"
      },
      "execution_count": null,
      "outputs": [
        {
          "output_type": "stream",
          "name": "stdout",
          "text": [
            "[50 60 70 80]\n"
          ]
        }
      ]
    },
    {
      "cell_type": "code",
      "source": [],
      "metadata": {
        "id": "k04jmYfHB0Ek"
      },
      "execution_count": null,
      "outputs": []
    },
    {
      "cell_type": "code",
      "source": [],
      "metadata": {
        "id": "faJB2D7eB0e2"
      },
      "execution_count": null,
      "outputs": []
    },
    {
      "cell_type": "code",
      "source": [],
      "metadata": {
        "id": "xlhYquRjB1Bm"
      },
      "execution_count": null,
      "outputs": []
    },
    {
      "cell_type": "code",
      "source": [],
      "metadata": {
        "id": "EI6qTErHB12Q"
      },
      "execution_count": null,
      "outputs": []
    }
  ]
}