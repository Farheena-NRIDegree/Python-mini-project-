{
  "nbformat": 4,
  "nbformat_minor": 0,
  "metadata": {
    "colab": {
      "provenance": [],
      "authorship_tag": "ABX9TyOdbjx4lGfHI5qOr6UMY9gd",
      "include_colab_link": true
    },
    "kernelspec": {
      "name": "python3",
      "display_name": "Python 3"
    },
    "language_info": {
      "name": "python"
    }
  },
  "cells": [
    {
      "cell_type": "markdown",
      "metadata": {
        "id": "view-in-github",
        "colab_type": "text"
      },
      "source": [
        "<a href=\"https://colab.research.google.com/github/Farheena-NRIDegree/Python-mini-project-/blob/main/Numpy.ipynb\" target=\"_parent\"><img src=\"https://colab.research.google.com/assets/colab-badge.svg\" alt=\"Open In Colab\"/></a>"
      ]
    },
    {
      "cell_type": "code",
      "execution_count": null,
      "metadata": {
        "id": "vWJT8UGwtOP5"
      },
      "outputs": [],
      "source": [
        "#Numpy _ numeric python\n",
        "#Most powerfull package _ library\n",
        "#Numpy _ Dimensions\n",
        "#A _ one Dimensional Array\n",
        "#[A,B] || [A,\n",
        "         #  B] _ Two Dimensional Array _ Row || column\n",
        "# Three Dimensional\n",
        "#Array _ storing manipulating, similar Data type\n",
        "#Faster than any mathematical functions\n",
        "# Convincent compared to other packages\n",
        "# memory efficiency\n",
        "# support multi dimensional arrays\n",
        "# speed(numpy operations) > speed (lists operations)\n",
        "# size (numpy opretions) > size (lists operations)\n",
        "# memory(numpy)"
      ]
    },
    {
      "cell_type": "code",
      "source": [
        "import numpy as np"
      ],
      "metadata": {
        "id": "5hut_11rtf9_"
      },
      "execution_count": null,
      "outputs": []
    },
    {
      "cell_type": "code",
      "source": [
        "# create a numpy array\n",
        "# 1D array\n",
        "\n",
        "arr1D = np.array([1,2,3,4,5])\n",
        "print(arr1D)"
      ],
      "metadata": {
        "colab": {
          "base_uri": "https://localhost:8080/"
        },
        "id": "5uvqgwT9tgKo",
        "outputId": "c246f972-1e2a-493e-ac3f-14d15e76aa6b"
      },
      "execution_count": null,
      "outputs": [
        {
          "output_type": "stream",
          "name": "stdout",
          "text": [
            "[1 2 3 4 5]\n"
          ]
        }
      ]
    },
    {
      "cell_type": "code",
      "source": [
        " # create 2D array _ matrix\n",
        " arr2D = np.array([\n",
        "     [1,2,3],[4,5,6]\n",
        "  ])\n",
        " print(arr2D)"
      ],
      "metadata": {
        "colab": {
          "base_uri": "https://localhost:8080/"
        },
        "id": "o6G1v9pRtZDf",
        "outputId": "171de95f-51ce-4ac8-c79b-51bcc5f52e46"
      },
      "execution_count": null,
      "outputs": [
        {
          "output_type": "stream",
          "name": "stdout",
          "text": [
            "[[1 2 3]\n",
            " [4 5 6]]\n"
          ]
        }
      ]
    },
    {
      "cell_type": "code",
      "source": [
        "#creating arrays with default values\n",
        "allzeros = np.zeros([2,3])\n",
        "print(allzeros)"
      ],
      "metadata": {
        "colab": {
          "base_uri": "https://localhost:8080/"
        },
        "id": "yBBYw9YLtZG4",
        "outputId": "2423c1c8-b3ce-4aa4-975b-20fad8439519"
      },
      "execution_count": null,
      "outputs": [
        {
          "output_type": "stream",
          "name": "stdout",
          "text": [
            "[[0. 0. 0.]\n",
            " [0. 0. 0.]]\n"
          ]
        }
      ]
    },
    {
      "cell_type": "code",
      "source": [
        "#creating matrix with values of elements as '1'\n",
        "allones = np.ones([2,3])\n",
        "print(allones)"
      ],
      "metadata": {
        "colab": {
          "base_uri": "https://localhost:8080/"
        },
        "id": "qlugyON2tZJ7",
        "outputId": "9b40f957-de81-42df-89ac-fb60adba4c67"
      },
      "execution_count": null,
      "outputs": [
        {
          "output_type": "stream",
          "name": "stdout",
          "text": [
            "[[1. 1. 1.]\n",
            " [1. 1. 1.]]\n"
          ]
        }
      ]
    },
    {
      "cell_type": "code",
      "source": [
        "#creating matrix with values of elements as 'constant value _ n ~ fill value'\n",
        "allconstant = np.full([2,3],6)\n",
        "print(allconstant)"
      ],
      "metadata": {
        "colab": {
          "base_uri": "https://localhost:8080/"
        },
        "id": "7-N9-vaHtZNb",
        "outputId": "f5251a0a-8de8-489b-9143-a9bf3c37974f"
      },
      "execution_count": null,
      "outputs": [
        {
          "output_type": "stream",
          "name": "stdout",
          "text": [
            "[[6 6 6]\n",
            " [6 6 6]]\n"
          ]
        }
      ]
    },
    {
      "cell_type": "code",
      "source": [
        "#create an identity matrix _ I\n",
        "identity = np.eye(4)\n",
        "print(identity)"
      ],
      "metadata": {
        "colab": {
          "base_uri": "https://localhost:8080/"
        },
        "id": "9p8cTfHNtZTH",
        "outputId": "1a81b111-34b8-42cd-89a4-740c1ff6b703"
      },
      "execution_count": null,
      "outputs": [
        {
          "output_type": "stream",
          "name": "stdout",
          "text": [
            "[[1. 0. 0. 0.]\n",
            " [0. 1. 0. 0.]\n",
            " [0. 0. 1. 0.]\n",
            " [0. 0. 0. 1.]]\n"
          ]
        }
      ]
    },
    {
      "cell_type": "code",
      "source": [
        "#Identity matrix _ Anii = 1 && Aij = 0\n",
        "#for all A Belongs to R MxN\n",
        "#Aij"
      ],
      "metadata": {
        "id": "l8gX5tg2tg3y"
      },
      "execution_count": null,
      "outputs": []
    },
    {
      "cell_type": "code",
      "source": [
        "# creating random matrices\n",
        "#With 0 and 1\n",
        "rand1 = np.random.rand(3,3)\n",
        "print(rand1)\n",
        "\n",
        "# between a and b\n",
        "rand2 = np.random.randint(10, 20,size=(3,3))\n",
        "print(rand2)"
      ],
      "metadata": {
        "colab": {
          "base_uri": "https://localhost:8080/"
        },
        "id": "t9c9mUBpthYL",
        "outputId": "3c2ef5a0-75be-4eb6-c872-5da7b42a9974"
      },
      "execution_count": null,
      "outputs": [
        {
          "output_type": "stream",
          "name": "stdout",
          "text": [
            "[[0.45370695 0.47418074 0.34942434]\n",
            " [0.49373574 0.83019359 0.5825679 ]\n",
            " [0.31744456 0.2294497  0.95021412]]\n",
            "[[19 18 16]\n",
            " [18 10 14]\n",
            " [11 16 18]]\n"
          ]
        }
      ]
    },
    {
      "cell_type": "code",
      "source": [
        "# Array Properties\n",
        "arr = np.array([[1,2,3,4],[1,4,5,6]])\n",
        "print(arr)\n",
        "\n",
        "# Shape of array\n",
        "print(f'\\nThe shape of the array is {arr.shape}')\n",
        "\n",
        "# Size of array\n",
        "print(f'The size of the array is {arr.size}')\n",
        "\n",
        "# Datatype of array\n",
        "print(f'The Data type of the array is {arr.dtype}')\n",
        "\n",
        "# Dimensions of array\n",
        "print(f'The Dimension of the array is {arr.ndim}')"
      ],
      "metadata": {
        "colab": {
          "base_uri": "https://localhost:8080/"
        },
        "id": "pDdJLn4AtiGH",
        "outputId": "fb57e293-d52d-4e0f-b3c3-051019885ef4"
      },
      "execution_count": null,
      "outputs": [
        {
          "output_type": "stream",
          "name": "stdout",
          "text": [
            "[[1 2 3 4]\n",
            " [1 4 5 6]]\n",
            "\n",
            "The shape of the array is (2, 4)\n",
            "The size of the array is 8\n",
            "The Data type of the array is int64\n",
            "The Dimension of the array is 2\n"
          ]
        }
      ]
    },
    {
      "cell_type": "code",
      "source": [
        "# indexing and slicing\n",
        "\n",
        "#Access the elements in 1D Array\n",
        "\n",
        "arr = np.array([1,2,3,4])\n",
        "print(arr)\n",
        "print(arr[3])"
      ],
      "metadata": {
        "colab": {
          "base_uri": "https://localhost:8080/"
        },
        "id": "rfKsROWMtjZ8",
        "outputId": "25298a43-ac9d-46d1-ac0d-6d51d9a6b44b"
      },
      "execution_count": null,
      "outputs": [
        {
          "output_type": "stream",
          "name": "stdout",
          "text": [
            "[1 2 3 4]\n",
            "4\n"
          ]
        }
      ]
    },
    {
      "cell_type": "code",
      "source": [
        "# slicing the elements\n",
        "\n",
        "print(arr[0:3])\n",
        "\n",
        "# Access the element in 2D Array\n",
        "\n",
        "arr2 = np.array([[1,2,3],[2,3,4]])\n",
        "\n",
        "print(arr2)\n",
        "\n",
        "print(arr2[1,1])\n",
        "\n",
        "print(arr2[0,:])# First row with all columns\n",
        "\n",
        "print(arr2[:,0])# First column with all rows"
      ],
      "metadata": {
        "colab": {
          "base_uri": "https://localhost:8080/"
        },
        "id": "cIRTKphUtkX-",
        "outputId": "c8313bca-af51-4eeb-e84d-c08e9af49ad5"
      },
      "execution_count": null,
      "outputs": [
        {
          "output_type": "stream",
          "name": "stdout",
          "text": [
            "[1 2 3]\n",
            "[[1 2 3]\n",
            " [2 3 4]]\n",
            "3\n",
            "[1 2 3]\n",
            "[1 2]\n"
          ]
        }
      ]
    },
    {
      "cell_type": "code",
      "source": [
        "!pip install numpy"
      ],
      "metadata": {
        "colab": {
          "base_uri": "https://localhost:8080/"
        },
        "id": "uNQ5W0UB_62M",
        "outputId": "853c4800-5b9f-405f-bba0-1c45d0c72caf"
      },
      "execution_count": null,
      "outputs": [
        {
          "output_type": "stream",
          "name": "stdout",
          "text": [
            "Requirement already satisfied: numpy in /usr/local/lib/python3.11/dist-packages (1.26.4)\n"
          ]
        }
      ]
    },
    {
      "cell_type": "code",
      "source": [
        "#l1 = []\n",
        "#[l1.append(_) for _in range(10)]\n",
        "L1 = np.arange(10,-10,-3)\n",
        "print(L1)"
      ],
      "metadata": {
        "colab": {
          "base_uri": "https://localhost:8080/"
        },
        "id": "D3pznB6btk9Y",
        "outputId": "7313e07f-2d0f-455f-ee18-49adfd7c75f2"
      },
      "execution_count": null,
      "outputs": [
        {
          "output_type": "stream",
          "name": "stdout",
          "text": [
            "[10  7  4  1 -2 -5 -8]\n"
          ]
        }
      ]
    },
    {
      "cell_type": "code",
      "source": [
        "#Mathematical operations\n",
        "a = np.array([1,2,3])\n",
        "b = np.array([3,4,5])\n",
        "print(f'The sum of a and b is { a + b}')\n",
        "print(f'The sum of a and b is { a * b}')\n",
        "print(f'The sum of a and b is { a / b}')"
      ],
      "metadata": {
        "colab": {
          "base_uri": "https://localhost:8080/"
        },
        "id": "YR90sckx_7H4",
        "outputId": "cdbcfa81-82c6-4dc8-9d67-a6feead608a4"
      },
      "execution_count": null,
      "outputs": [
        {
          "output_type": "stream",
          "name": "stdout",
          "text": [
            "The sum of a and b is [4 6 8]\n",
            "The sum of a and b is [ 3  8 15]\n",
            "The sum of a and b is [0.33333333 0.5        0.6       ]\n"
          ]
        }
      ]
    },
    {
      "cell_type": "code",
      "source": [
        "#Matrix multiplication\n",
        "b1 = np.array([[1,2,3,],[2,3,4,]])\n",
        "b2 = np.array([[5,6,],[7,8],[1,3]])\n",
        "\n",
        "#Dot product --- product = AB -- A MxN -- Bnxp\n",
        "c = np.dot(b1,b2)\n",
        "print(c)"
      ],
      "metadata": {
        "colab": {
          "base_uri": "https://localhost:8080/"
        },
        "id": "wcCop229_72Z",
        "outputId": "f72b8395-391b-4faf-af19-e3bab50683c1"
      },
      "execution_count": null,
      "outputs": [
        {
          "output_type": "stream",
          "name": "stdout",
          "text": [
            "[[22 31]\n",
            " [35 48]]\n"
          ]
        }
      ]
    },
    {
      "cell_type": "code",
      "source": [
        "print(b1)"
      ],
      "metadata": {
        "colab": {
          "base_uri": "https://localhost:8080/"
        },
        "id": "f6lQv4jI_9Rd",
        "outputId": "5a78606f-657a-4593-ece8-af2046745c6a"
      },
      "execution_count": null,
      "outputs": [
        {
          "output_type": "stream",
          "name": "stdout",
          "text": [
            "[[1 2 3]\n",
            " [2 3 4]]\n"
          ]
        }
      ]
    },
    {
      "cell_type": "code",
      "source": [
        "print(b2)"
      ],
      "metadata": {
        "colab": {
          "base_uri": "https://localhost:8080/"
        },
        "id": "2i59In0btlr2",
        "outputId": "0ed62e76-1324-4038-8bc0-7b1f35e78f5b"
      },
      "execution_count": null,
      "outputs": [
        {
          "output_type": "stream",
          "name": "stdout",
          "text": [
            "[[5 6]\n",
            " [7 8]\n",
            " [1 3]]\n"
          ]
        }
      ]
    },
    {
      "cell_type": "code",
      "source": [
        "[\n",
        "   [22, 31],\n",
        "   [35, 48],\n",
        "]"
      ],
      "metadata": {
        "colab": {
          "base_uri": "https://localhost:8080/"
        },
        "id": "UZXrsSQ2D6Rt",
        "outputId": "993a590f-9329-4b2a-9d43-2cb62a1f30f3"
      },
      "execution_count": null,
      "outputs": [
        {
          "output_type": "execute_result",
          "data": {
            "text/plain": [
              "[[22, 31], [35, 48]]"
            ]
          },
          "metadata": {},
          "execution_count": 81
        }
      ]
    },
    {
      "cell_type": "code",
      "source": [],
      "metadata": {
        "id": "6Ev5OqqE0FKu"
      },
      "execution_count": null,
      "outputs": []
    },
    {
      "cell_type": "code",
      "source": [],
      "metadata": {
        "id": "1BZLxtRfFHyk"
      },
      "execution_count": null,
      "outputs": []
    },
    {
      "cell_type": "code",
      "source": [],
      "metadata": {
        "id": "B4trMoO-3Ic0"
      },
      "execution_count": null,
      "outputs": []
    },
    {
      "cell_type": "code",
      "source": [],
      "metadata": {
        "id": "iuj4CaxcFHEl"
      },
      "execution_count": null,
      "outputs": []
    },
    {
      "cell_type": "code",
      "source": [],
      "metadata": {
        "id": "aXsFlD-sFFp0"
      },
      "execution_count": null,
      "outputs": []
    },
    {
      "cell_type": "code",
      "source": [],
      "metadata": {
        "id": "hy7VDBr4FD3X"
      },
      "execution_count": null,
      "outputs": []
    },
    {
      "cell_type": "code",
      "source": [],
      "metadata": {
        "id": "kSA7csL-D6fo"
      },
      "execution_count": null,
      "outputs": []
    },
    {
      "cell_type": "code",
      "source": [],
      "metadata": {
        "id": "SG0jpnfLD7QW"
      },
      "execution_count": null,
      "outputs": []
    },
    {
      "cell_type": "code",
      "source": [],
      "metadata": {
        "id": "GbLNmu-fFJkq"
      },
      "execution_count": null,
      "outputs": []
    },
    {
      "cell_type": "code",
      "source": [],
      "metadata": {
        "id": "wWGVql7gD71c"
      },
      "execution_count": null,
      "outputs": []
    },
    {
      "cell_type": "code",
      "source": [],
      "metadata": {
        "id": "nRt_fflkFK-u"
      },
      "execution_count": null,
      "outputs": []
    }
  ]
}